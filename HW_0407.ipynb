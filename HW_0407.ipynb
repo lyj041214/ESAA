{
  "nbformat": 4,
  "nbformat_minor": 0,
  "metadata": {
    "colab": {
      "provenance": [],
      "authorship_tag": "ABX9TyOEMloKDKME9MKqXnF2Jp6R",
      "include_colab_link": true
    },
    "kernelspec": {
      "name": "python3",
      "display_name": "Python 3"
    },
    "language_info": {
      "name": "python"
    }
  },
  "cells": [
    {
      "cell_type": "markdown",
      "metadata": {
        "id": "view-in-github",
        "colab_type": "text"
      },
      "source": [
        "<a href=\"https://colab.research.google.com/github/lyj041214/ESAA/blob/main/HW_0407.ipynb\" target=\"_parent\"><img src=\"https://colab.research.google.com/assets/colab-badge.svg\" alt=\"Open In Colab\"/></a>"
      ]
    },
    {
      "cell_type": "markdown",
      "source": [
        "# [개념 정리]"
      ],
      "metadata": {
        "id": "fCXDdtVwp7zo"
      }
    },
    {
      "cell_type": "markdown",
      "source": [
        "## 앙상블 학습\n",
        "여러 개의 분류기를 생성하고 그 예측을 결합함으로써 보다 정확한 최종 예측을 도출하는 기법\n",
        "\n",
        "- 앙상블 학습의 유형: 보팅(Voting), 배깅(Bagging), 부스팅(Boosting)\n",
        "\n",
        "### 보팅 유형\n",
        "- 하드 보팅: 예측한 결괏값들 중 다수의 분류기가 결정한 예측값을 최종 보팅 결괏값으로 선정\n",
        "- 소프트 보팅: 분류기들의 레이블 값 결정 확률을 모두 더하고 평균해서 확률이 가장 높은 레이블 값을 선정\n",
        "- 주로 소프트 보팅 사용\n",
        "- VotingClassifier 클래스 제공\n",
        "\n",
        "---\n",
        "\n",
        "## 랜덤 포레스트\n",
        "- 배깅의 대표적 알고리즘\n",
        "- 여러 개의 결정 트리 분류기가 전체 데이터에서 배깅 방식으로 각자의 데이터를 샘플링해 개별적으로 학습을 수행, 최종적으로 모든 분류기가 보팅을 통해 예측 결정\n",
        "\n",
        "### 랜덤 포레스트 하이퍼 파라미터 및 튜닝\n",
        "- n_estimators: 결정 트리 개수 지정\n",
        "- max_features\n",
        "- max_depth, min_samples_leat, min_samples_split 결정 트리와 똑같이 적용\n",
        "\n",
        "---\n",
        "\n",
        "## XGBoost\n",
        "- 설치: pip install xgboost\n",
        "- 하이퍼 파라미터: 일반 파라미터, 부스터 파라미터, 학습 태스크 파라미터"
      ],
      "metadata": {
        "id": "BOz3C6c_qGH4"
      }
    },
    {
      "cell_type": "markdown",
      "source": [
        "# [코드 필사]"
      ],
      "metadata": {
        "id": "HDOEYopReSXq"
      }
    },
    {
      "cell_type": "code",
      "source": [
        "import pandas as pd\n",
        "\n",
        "from sklearn.ensemble import VotingClassifier\n",
        "from sklearn.linear_model import LogisticRegression\n",
        "from sklearn.neighbors import KNeighborsClassifier\n",
        "from sklearn.datasets import load_breast_cancer\n",
        "from sklearn.model_selection import train_test_split\n",
        "from sklearn.metrics import accuracy_score\n",
        "\n",
        "cancer = load_breast_cancer()\n",
        "\n",
        "data_df = pd.DataFrame(cancer.data, columns=cancer.feature_names)\n",
        "data_df.head(3)"
      ],
      "metadata": {
        "colab": {
          "base_uri": "https://localhost:8080/",
          "height": 208
        },
        "id": "qrIUIW_We0yI",
        "outputId": "0ca0003f-4cd3-4886-87df-af467d34c79a"
      },
      "execution_count": 1,
      "outputs": [
        {
          "output_type": "execute_result",
          "data": {
            "text/plain": [
              "   mean radius  mean texture  mean perimeter  mean area  mean smoothness  \\\n",
              "0        17.99         10.38           122.8     1001.0          0.11840   \n",
              "1        20.57         17.77           132.9     1326.0          0.08474   \n",
              "2        19.69         21.25           130.0     1203.0          0.10960   \n",
              "\n",
              "   mean compactness  mean concavity  mean concave points  mean symmetry  \\\n",
              "0           0.27760          0.3001              0.14710         0.2419   \n",
              "1           0.07864          0.0869              0.07017         0.1812   \n",
              "2           0.15990          0.1974              0.12790         0.2069   \n",
              "\n",
              "   mean fractal dimension  ...  worst radius  worst texture  worst perimeter  \\\n",
              "0                 0.07871  ...         25.38          17.33            184.6   \n",
              "1                 0.05667  ...         24.99          23.41            158.8   \n",
              "2                 0.05999  ...         23.57          25.53            152.5   \n",
              "\n",
              "   worst area  worst smoothness  worst compactness  worst concavity  \\\n",
              "0      2019.0            0.1622             0.6656           0.7119   \n",
              "1      1956.0            0.1238             0.1866           0.2416   \n",
              "2      1709.0            0.1444             0.4245           0.4504   \n",
              "\n",
              "   worst concave points  worst symmetry  worst fractal dimension  \n",
              "0                0.2654          0.4601                  0.11890  \n",
              "1                0.1860          0.2750                  0.08902  \n",
              "2                0.2430          0.3613                  0.08758  \n",
              "\n",
              "[3 rows x 30 columns]"
            ],
            "text/html": [
              "\n",
              "  <div id=\"df-4aaae897-60d4-4f5a-a8c4-6347d5813714\" class=\"colab-df-container\">\n",
              "    <div>\n",
              "<style scoped>\n",
              "    .dataframe tbody tr th:only-of-type {\n",
              "        vertical-align: middle;\n",
              "    }\n",
              "\n",
              "    .dataframe tbody tr th {\n",
              "        vertical-align: top;\n",
              "    }\n",
              "\n",
              "    .dataframe thead th {\n",
              "        text-align: right;\n",
              "    }\n",
              "</style>\n",
              "<table border=\"1\" class=\"dataframe\">\n",
              "  <thead>\n",
              "    <tr style=\"text-align: right;\">\n",
              "      <th></th>\n",
              "      <th>mean radius</th>\n",
              "      <th>mean texture</th>\n",
              "      <th>mean perimeter</th>\n",
              "      <th>mean area</th>\n",
              "      <th>mean smoothness</th>\n",
              "      <th>mean compactness</th>\n",
              "      <th>mean concavity</th>\n",
              "      <th>mean concave points</th>\n",
              "      <th>mean symmetry</th>\n",
              "      <th>mean fractal dimension</th>\n",
              "      <th>...</th>\n",
              "      <th>worst radius</th>\n",
              "      <th>worst texture</th>\n",
              "      <th>worst perimeter</th>\n",
              "      <th>worst area</th>\n",
              "      <th>worst smoothness</th>\n",
              "      <th>worst compactness</th>\n",
              "      <th>worst concavity</th>\n",
              "      <th>worst concave points</th>\n",
              "      <th>worst symmetry</th>\n",
              "      <th>worst fractal dimension</th>\n",
              "    </tr>\n",
              "  </thead>\n",
              "  <tbody>\n",
              "    <tr>\n",
              "      <th>0</th>\n",
              "      <td>17.99</td>\n",
              "      <td>10.38</td>\n",
              "      <td>122.8</td>\n",
              "      <td>1001.0</td>\n",
              "      <td>0.11840</td>\n",
              "      <td>0.27760</td>\n",
              "      <td>0.3001</td>\n",
              "      <td>0.14710</td>\n",
              "      <td>0.2419</td>\n",
              "      <td>0.07871</td>\n",
              "      <td>...</td>\n",
              "      <td>25.38</td>\n",
              "      <td>17.33</td>\n",
              "      <td>184.6</td>\n",
              "      <td>2019.0</td>\n",
              "      <td>0.1622</td>\n",
              "      <td>0.6656</td>\n",
              "      <td>0.7119</td>\n",
              "      <td>0.2654</td>\n",
              "      <td>0.4601</td>\n",
              "      <td>0.11890</td>\n",
              "    </tr>\n",
              "    <tr>\n",
              "      <th>1</th>\n",
              "      <td>20.57</td>\n",
              "      <td>17.77</td>\n",
              "      <td>132.9</td>\n",
              "      <td>1326.0</td>\n",
              "      <td>0.08474</td>\n",
              "      <td>0.07864</td>\n",
              "      <td>0.0869</td>\n",
              "      <td>0.07017</td>\n",
              "      <td>0.1812</td>\n",
              "      <td>0.05667</td>\n",
              "      <td>...</td>\n",
              "      <td>24.99</td>\n",
              "      <td>23.41</td>\n",
              "      <td>158.8</td>\n",
              "      <td>1956.0</td>\n",
              "      <td>0.1238</td>\n",
              "      <td>0.1866</td>\n",
              "      <td>0.2416</td>\n",
              "      <td>0.1860</td>\n",
              "      <td>0.2750</td>\n",
              "      <td>0.08902</td>\n",
              "    </tr>\n",
              "    <tr>\n",
              "      <th>2</th>\n",
              "      <td>19.69</td>\n",
              "      <td>21.25</td>\n",
              "      <td>130.0</td>\n",
              "      <td>1203.0</td>\n",
              "      <td>0.10960</td>\n",
              "      <td>0.15990</td>\n",
              "      <td>0.1974</td>\n",
              "      <td>0.12790</td>\n",
              "      <td>0.2069</td>\n",
              "      <td>0.05999</td>\n",
              "      <td>...</td>\n",
              "      <td>23.57</td>\n",
              "      <td>25.53</td>\n",
              "      <td>152.5</td>\n",
              "      <td>1709.0</td>\n",
              "      <td>0.1444</td>\n",
              "      <td>0.4245</td>\n",
              "      <td>0.4504</td>\n",
              "      <td>0.2430</td>\n",
              "      <td>0.3613</td>\n",
              "      <td>0.08758</td>\n",
              "    </tr>\n",
              "  </tbody>\n",
              "</table>\n",
              "<p>3 rows × 30 columns</p>\n",
              "</div>\n",
              "    <div class=\"colab-df-buttons\">\n",
              "\n",
              "  <div class=\"colab-df-container\">\n",
              "    <button class=\"colab-df-convert\" onclick=\"convertToInteractive('df-4aaae897-60d4-4f5a-a8c4-6347d5813714')\"\n",
              "            title=\"Convert this dataframe to an interactive table.\"\n",
              "            style=\"display:none;\">\n",
              "\n",
              "  <svg xmlns=\"http://www.w3.org/2000/svg\" height=\"24px\" viewBox=\"0 -960 960 960\">\n",
              "    <path d=\"M120-120v-720h720v720H120Zm60-500h600v-160H180v160Zm220 220h160v-160H400v160Zm0 220h160v-160H400v160ZM180-400h160v-160H180v160Zm440 0h160v-160H620v160ZM180-180h160v-160H180v160Zm440 0h160v-160H620v160Z\"/>\n",
              "  </svg>\n",
              "    </button>\n",
              "\n",
              "  <style>\n",
              "    .colab-df-container {\n",
              "      display:flex;\n",
              "      gap: 12px;\n",
              "    }\n",
              "\n",
              "    .colab-df-convert {\n",
              "      background-color: #E8F0FE;\n",
              "      border: none;\n",
              "      border-radius: 50%;\n",
              "      cursor: pointer;\n",
              "      display: none;\n",
              "      fill: #1967D2;\n",
              "      height: 32px;\n",
              "      padding: 0 0 0 0;\n",
              "      width: 32px;\n",
              "    }\n",
              "\n",
              "    .colab-df-convert:hover {\n",
              "      background-color: #E2EBFA;\n",
              "      box-shadow: 0px 1px 2px rgba(60, 64, 67, 0.3), 0px 1px 3px 1px rgba(60, 64, 67, 0.15);\n",
              "      fill: #174EA6;\n",
              "    }\n",
              "\n",
              "    .colab-df-buttons div {\n",
              "      margin-bottom: 4px;\n",
              "    }\n",
              "\n",
              "    [theme=dark] .colab-df-convert {\n",
              "      background-color: #3B4455;\n",
              "      fill: #D2E3FC;\n",
              "    }\n",
              "\n",
              "    [theme=dark] .colab-df-convert:hover {\n",
              "      background-color: #434B5C;\n",
              "      box-shadow: 0px 1px 3px 1px rgba(0, 0, 0, 0.15);\n",
              "      filter: drop-shadow(0px 1px 2px rgba(0, 0, 0, 0.3));\n",
              "      fill: #FFFFFF;\n",
              "    }\n",
              "  </style>\n",
              "\n",
              "    <script>\n",
              "      const buttonEl =\n",
              "        document.querySelector('#df-4aaae897-60d4-4f5a-a8c4-6347d5813714 button.colab-df-convert');\n",
              "      buttonEl.style.display =\n",
              "        google.colab.kernel.accessAllowed ? 'block' : 'none';\n",
              "\n",
              "      async function convertToInteractive(key) {\n",
              "        const element = document.querySelector('#df-4aaae897-60d4-4f5a-a8c4-6347d5813714');\n",
              "        const dataTable =\n",
              "          await google.colab.kernel.invokeFunction('convertToInteractive',\n",
              "                                                    [key], {});\n",
              "        if (!dataTable) return;\n",
              "\n",
              "        const docLinkHtml = 'Like what you see? Visit the ' +\n",
              "          '<a target=\"_blank\" href=https://colab.research.google.com/notebooks/data_table.ipynb>data table notebook</a>'\n",
              "          + ' to learn more about interactive tables.';\n",
              "        element.innerHTML = '';\n",
              "        dataTable['output_type'] = 'display_data';\n",
              "        await google.colab.output.renderOutput(dataTable, element);\n",
              "        const docLink = document.createElement('div');\n",
              "        docLink.innerHTML = docLinkHtml;\n",
              "        element.appendChild(docLink);\n",
              "      }\n",
              "    </script>\n",
              "  </div>\n",
              "\n",
              "\n",
              "<div id=\"df-746238b8-e4bf-4158-9206-fc5743123dd0\">\n",
              "  <button class=\"colab-df-quickchart\" onclick=\"quickchart('df-746238b8-e4bf-4158-9206-fc5743123dd0')\"\n",
              "            title=\"Suggest charts\"\n",
              "            style=\"display:none;\">\n",
              "\n",
              "<svg xmlns=\"http://www.w3.org/2000/svg\" height=\"24px\"viewBox=\"0 0 24 24\"\n",
              "     width=\"24px\">\n",
              "    <g>\n",
              "        <path d=\"M19 3H5c-1.1 0-2 .9-2 2v14c0 1.1.9 2 2 2h14c1.1 0 2-.9 2-2V5c0-1.1-.9-2-2-2zM9 17H7v-7h2v7zm4 0h-2V7h2v10zm4 0h-2v-4h2v4z\"/>\n",
              "    </g>\n",
              "</svg>\n",
              "  </button>\n",
              "\n",
              "<style>\n",
              "  .colab-df-quickchart {\n",
              "      --bg-color: #E8F0FE;\n",
              "      --fill-color: #1967D2;\n",
              "      --hover-bg-color: #E2EBFA;\n",
              "      --hover-fill-color: #174EA6;\n",
              "      --disabled-fill-color: #AAA;\n",
              "      --disabled-bg-color: #DDD;\n",
              "  }\n",
              "\n",
              "  [theme=dark] .colab-df-quickchart {\n",
              "      --bg-color: #3B4455;\n",
              "      --fill-color: #D2E3FC;\n",
              "      --hover-bg-color: #434B5C;\n",
              "      --hover-fill-color: #FFFFFF;\n",
              "      --disabled-bg-color: #3B4455;\n",
              "      --disabled-fill-color: #666;\n",
              "  }\n",
              "\n",
              "  .colab-df-quickchart {\n",
              "    background-color: var(--bg-color);\n",
              "    border: none;\n",
              "    border-radius: 50%;\n",
              "    cursor: pointer;\n",
              "    display: none;\n",
              "    fill: var(--fill-color);\n",
              "    height: 32px;\n",
              "    padding: 0;\n",
              "    width: 32px;\n",
              "  }\n",
              "\n",
              "  .colab-df-quickchart:hover {\n",
              "    background-color: var(--hover-bg-color);\n",
              "    box-shadow: 0 1px 2px rgba(60, 64, 67, 0.3), 0 1px 3px 1px rgba(60, 64, 67, 0.15);\n",
              "    fill: var(--button-hover-fill-color);\n",
              "  }\n",
              "\n",
              "  .colab-df-quickchart-complete:disabled,\n",
              "  .colab-df-quickchart-complete:disabled:hover {\n",
              "    background-color: var(--disabled-bg-color);\n",
              "    fill: var(--disabled-fill-color);\n",
              "    box-shadow: none;\n",
              "  }\n",
              "\n",
              "  .colab-df-spinner {\n",
              "    border: 2px solid var(--fill-color);\n",
              "    border-color: transparent;\n",
              "    border-bottom-color: var(--fill-color);\n",
              "    animation:\n",
              "      spin 1s steps(1) infinite;\n",
              "  }\n",
              "\n",
              "  @keyframes spin {\n",
              "    0% {\n",
              "      border-color: transparent;\n",
              "      border-bottom-color: var(--fill-color);\n",
              "      border-left-color: var(--fill-color);\n",
              "    }\n",
              "    20% {\n",
              "      border-color: transparent;\n",
              "      border-left-color: var(--fill-color);\n",
              "      border-top-color: var(--fill-color);\n",
              "    }\n",
              "    30% {\n",
              "      border-color: transparent;\n",
              "      border-left-color: var(--fill-color);\n",
              "      border-top-color: var(--fill-color);\n",
              "      border-right-color: var(--fill-color);\n",
              "    }\n",
              "    40% {\n",
              "      border-color: transparent;\n",
              "      border-right-color: var(--fill-color);\n",
              "      border-top-color: var(--fill-color);\n",
              "    }\n",
              "    60% {\n",
              "      border-color: transparent;\n",
              "      border-right-color: var(--fill-color);\n",
              "    }\n",
              "    80% {\n",
              "      border-color: transparent;\n",
              "      border-right-color: var(--fill-color);\n",
              "      border-bottom-color: var(--fill-color);\n",
              "    }\n",
              "    90% {\n",
              "      border-color: transparent;\n",
              "      border-bottom-color: var(--fill-color);\n",
              "    }\n",
              "  }\n",
              "</style>\n",
              "\n",
              "  <script>\n",
              "    async function quickchart(key) {\n",
              "      const quickchartButtonEl =\n",
              "        document.querySelector('#' + key + ' button');\n",
              "      quickchartButtonEl.disabled = true;  // To prevent multiple clicks.\n",
              "      quickchartButtonEl.classList.add('colab-df-spinner');\n",
              "      try {\n",
              "        const charts = await google.colab.kernel.invokeFunction(\n",
              "            'suggestCharts', [key], {});\n",
              "      } catch (error) {\n",
              "        console.error('Error during call to suggestCharts:', error);\n",
              "      }\n",
              "      quickchartButtonEl.classList.remove('colab-df-spinner');\n",
              "      quickchartButtonEl.classList.add('colab-df-quickchart-complete');\n",
              "    }\n",
              "    (() => {\n",
              "      let quickchartButtonEl =\n",
              "        document.querySelector('#df-746238b8-e4bf-4158-9206-fc5743123dd0 button');\n",
              "      quickchartButtonEl.style.display =\n",
              "        google.colab.kernel.accessAllowed ? 'block' : 'none';\n",
              "    })();\n",
              "  </script>\n",
              "</div>\n",
              "\n",
              "    </div>\n",
              "  </div>\n"
            ],
            "application/vnd.google.colaboratory.intrinsic+json": {
              "type": "dataframe",
              "variable_name": "data_df"
            }
          },
          "metadata": {},
          "execution_count": 1
        }
      ]
    },
    {
      "cell_type": "code",
      "source": [
        "# 개별 모델은 로지스틱 회귀와 KNN임.\n",
        "lr_clf=LogisticRegression()\n",
        "knn_clf=KNeighborsClassifier(n_neighbors=8)\n",
        "\n",
        "# 개별 모델을 소프트 보팅 기반의 앙상블 모델로 구현한 분류기\n",
        "vo_clf=VotingClassifier(estimators=[('LR',lr_clf),('KNN',knn_clf)],voting='soft')\n",
        "\n",
        "X_train,X_test,y_train,y_test=train_test_split(cancer.data,cancer.target,test_size=0.2,random_state=156)\n",
        "\n",
        "# VotingClassifier 학습/예측/평가.\n",
        "vo_clf.fit(X_train,y_train)\n",
        "pred=vo_clf.predict(X_test)\n",
        "print('Voting 분류기 정확도: {0:.4f}'.format(accuracy_score(y_test,pred)))\n",
        "\n",
        "# 개별 모델의 학습/예측/평가.\n",
        "classifiers=[lr_clf,knn_clf]\n",
        "for classifier in classifiers:\n",
        "    classifier.fit(X_train,y_train)\n",
        "    pred=classifier.predict(X_test)\n",
        "    class_name=classifier.__class__.__name__\n",
        "    print('{0} 정확도: {1:.4f}'.format(class_name,accuracy_score(y_test,pred)))"
      ],
      "metadata": {
        "colab": {
          "base_uri": "https://localhost:8080/"
        },
        "id": "phsj33elfVFP",
        "outputId": "17f98153-c009-48bc-ee79-e47de9e943b3"
      },
      "execution_count": 2,
      "outputs": [
        {
          "output_type": "stream",
          "name": "stderr",
          "text": [
            "/usr/local/lib/python3.11/dist-packages/sklearn/linear_model/_logistic.py:465: ConvergenceWarning: lbfgs failed to converge (status=1):\n",
            "STOP: TOTAL NO. of ITERATIONS REACHED LIMIT.\n",
            "\n",
            "Increase the number of iterations (max_iter) or scale the data as shown in:\n",
            "    https://scikit-learn.org/stable/modules/preprocessing.html\n",
            "Please also refer to the documentation for alternative solver options:\n",
            "    https://scikit-learn.org/stable/modules/linear_model.html#logistic-regression\n",
            "  n_iter_i = _check_optimize_result(\n"
          ]
        },
        {
          "output_type": "stream",
          "name": "stdout",
          "text": [
            "Voting 분류기 정확도: 0.9474\n",
            "LogisticRegression 정확도: 0.9386\n",
            "KNeighborsClassifier 정확도: 0.9386\n"
          ]
        },
        {
          "output_type": "stream",
          "name": "stderr",
          "text": [
            "/usr/local/lib/python3.11/dist-packages/sklearn/linear_model/_logistic.py:465: ConvergenceWarning: lbfgs failed to converge (status=1):\n",
            "STOP: TOTAL NO. of ITERATIONS REACHED LIMIT.\n",
            "\n",
            "Increase the number of iterations (max_iter) or scale the data as shown in:\n",
            "    https://scikit-learn.org/stable/modules/preprocessing.html\n",
            "Please also refer to the documentation for alternative solver options:\n",
            "    https://scikit-learn.org/stable/modules/linear_model.html#logistic-regression\n",
            "  n_iter_i = _check_optimize_result(\n"
          ]
        }
      ]
    },
    {
      "cell_type": "code",
      "source": [
        "def get_new_feature_name_df(old_feature_name_df):\n",
        "  feature_dup_df=pd.DataFrame(data=old_feature_name_df.groupby('column_name').cumcount(),columns=['dup_cnt'])\n",
        "  feature_dup_df=feature_dup_df.reset_index()\n",
        "  new_feature_name_df=pd.merge(old_feature_name_df.reset_index(),feature_dup_df,how='outer')\n",
        "  new_feature_name_df['column_name']=new_feature_name_df[['column_name', 'dup_cnt']].apply(lambda x:x[0]+'_'+str(x[1]) if x[1]>0 else x[0],axis=1)\n",
        "  new_feature_name_df=new_feature_name_df.drop(['index'],axis=1)\n",
        "  return new_feature_name_df\n",
        "\n",
        "from types import new_class\n",
        "import pandas as pd\n",
        "\n",
        "def get_human_dataset():\n",
        "\n",
        "  # 각 데이터 파일은 공백으로 분리되어 있으므로 read_csv에서 공백 문자를 sep으로 할당.\n",
        "  feature_name_df=pd.read_csv('features.txt',sep='\\s+',header=None,names=['column_index','column_name'])\n",
        "\n",
        "  # 중복된 피처명을 수정하는 get_new_feature_name_df()를 이용, 신규 피처명 DataFrame 생성.\n",
        "  new_feature_name_df=get_new_feature_name_df(feature_name_df)\n",
        "\n",
        "  # DataFrame에 피처명을 칼럼으로 부여하기 위해 리스트 객체로 다시 변환\n",
        "  feature_name=new_feature_name_df.iloc[:,1].values.tolist()\n",
        "\n",
        "  # 학습 피처 데이터 세트와 테스트 피처 데이터를 DataFrame으로 로딩. 칼럼명은 feature_name 적용\n",
        "  X_train=pd.read_csv('X_train.txt',sep='\\s+',names=new_feature_name_df['column_name'])\n",
        "  X_test=pd.read_csv('X_test.txt',sep='\\s+',names=new_feature_name_df['column_name'])\n",
        "\n",
        "  # 학습 레이블과 테스트 레이블 데이터를 DataFrame으로 로딩하고 칼럼명은 action으로 부여\n",
        "  y_train=pd.read_csv('y_train.txt',sep='\\s+',header=None,names=['action'])\n",
        "  y_test=pd.read_csv('y_test.txt',sep='\\s+',header=None,names=['action'])\n",
        "\n",
        "  # 로드된 학습/테스트용 DataFrame을 모두 반환\n",
        "  return X_train,X_test,y_train,y_test\n",
        "\n",
        "X_train,X_test,y_train,y_test=get_human_dataset()"
      ],
      "metadata": {
        "id": "bDjS9k6BhF-V",
        "colab": {
          "base_uri": "https://localhost:8080/"
        },
        "outputId": "a33e314d-0359-4a5c-a0b8-d493eae1b554"
      },
      "execution_count": 3,
      "outputs": [
        {
          "output_type": "stream",
          "name": "stderr",
          "text": [
            "<ipython-input-3-c80df9886edb>:5: FutureWarning: Series.__getitem__ treating keys as positions is deprecated. In a future version, integer keys will always be treated as labels (consistent with DataFrame behavior). To access a value by position, use `ser.iloc[pos]`\n",
            "  new_feature_name_df['column_name']=new_feature_name_df[['column_name', 'dup_cnt']].apply(lambda x:x[0]+'_'+str(x[1]) if x[1]>0 else x[0],axis=1)\n"
          ]
        }
      ]
    },
    {
      "cell_type": "code",
      "source": [
        "from sklearn.ensemble import RandomForestClassifier\n",
        "from sklearn.metrics import accuracy_score\n",
        "import pandas as pd\n",
        "import warnings\n",
        "warnings.filterwarnings('ignore')\n",
        "\n",
        "# 결정 트리에서 사용한 get_human_dataset()를 이용해 학습/데이터용 DataFrame 반환\n",
        "X_train,X_test,y_train,y_test=get_human_dataset()\n",
        "\n",
        "# 랜덤 포레스트 학습 및 별도의 테스트 셋으로 예측 성능 평가\n",
        "rf_clf=RandomForestClassifier(random_state=0)\n",
        "rf_clf.fit(X_train,y_train)\n",
        "pred=rf_clf.predict(X_test)\n",
        "accuracy=accuracy_score(y_test,pred)\n",
        "print('랜덤 포레스트 정확도: {0:.4f}'.format(accuracy))"
      ],
      "metadata": {
        "colab": {
          "base_uri": "https://localhost:8080/"
        },
        "id": "rb6saR1xgYiR",
        "outputId": "e5c3fb52-c793-4133-b04e-524265083bed"
      },
      "execution_count": 4,
      "outputs": [
        {
          "output_type": "stream",
          "name": "stdout",
          "text": [
            "랜덤 포레스트 정확도: 0.9223\n"
          ]
        }
      ]
    },
    {
      "cell_type": "code",
      "source": [
        "from sklearn.model_selection import GridSearchCV\n",
        "\n",
        "params={\n",
        "    'max_depth':[8,16,24],\n",
        "    'min_samples_leaf':[1,6,12],\n",
        "    'min_samples_split':[2,8,16]\n",
        "}\n",
        "# RandomForestClassifier 객체 생성 후 GridSearchCV 수행\n",
        "rf_clf=RandomForestClassifier(n_estimators=100,random_state=0,n_jobs=-1)\n",
        "grid_cv=GridSearchCV(rf_clf,param_grid=params,cv=2,n_jobs=-1)\n",
        "grid_cv.fit(X_train,y_train)\n",
        "\n",
        "print('최적 하이퍼 파라미터:\\n',grid_cv.best_params_)\n",
        "print('최고 예측 정확도: {0:.4f}'.format(grid_cv.best_score_))"
      ],
      "metadata": {
        "colab": {
          "base_uri": "https://localhost:8080/"
        },
        "id": "zcneqTNgibPW",
        "outputId": "0ba076a1-e2ac-4015-841b-2e7359a9ee34"
      },
      "execution_count": 5,
      "outputs": [
        {
          "output_type": "stream",
          "name": "stdout",
          "text": [
            "최적 하이퍼 파라미터:\n",
            " {'max_depth': 16, 'min_samples_leaf': 6, 'min_samples_split': 16}\n",
            "최고 예측 정확도: 0.9157\n"
          ]
        }
      ]
    },
    {
      "cell_type": "code",
      "source": [
        "rf_clf1=RandomForestClassifier(n_estimators=100,min_samples_leaf=6,max_depth=16,min_samples_split=2,random_state=0)\n",
        "rf_clf1.fit(X_train,y_train)\n",
        "pred=rf_clf1.predict(X_test)\n",
        "print('예측 정확도: {0:.4f}'.format(accuracy_score(y_test,pred)))"
      ],
      "metadata": {
        "colab": {
          "base_uri": "https://localhost:8080/"
        },
        "id": "5hm2EaOki7-w",
        "outputId": "d5aa09e9-b326-470a-de3f-b8321f3cdee5"
      },
      "execution_count": 6,
      "outputs": [
        {
          "output_type": "stream",
          "name": "stdout",
          "text": [
            "예측 정확도: 0.9253\n"
          ]
        }
      ]
    },
    {
      "cell_type": "code",
      "source": [
        "import matplotlib.pyplot as plt\n",
        "import seaborn as sns\n",
        "%matplotlib inline\n",
        "\n",
        "ftr_importances_values=rf_clf1.feature_importances_\n",
        "ftr_importances=pd.Series(ftr_importances_values,index=X_train.columns)\n",
        "ftr_top20=ftr_importances.sort_values(ascending=False)[:20]\n",
        "\n",
        "plt.figure(figsize=(8,6))\n",
        "plt.title('Feature importances Top 20')\n",
        "sns.barplot(x=ftr_top20,y=ftr_top20.index)\n",
        "plt.show()"
      ],
      "metadata": {
        "colab": {
          "base_uri": "https://localhost:8080/",
          "height": 564
        },
        "id": "ZW9PvyeYjSGq",
        "outputId": "1647e4c9-6bc9-4030-d5e1-3fd3d790943a"
      },
      "execution_count": 7,
      "outputs": [
        {
          "output_type": "display_data",
          "data": {
            "text/plain": [
              "<Figure size 800x600 with 1 Axes>"
            ],
            "image/png": "[encoded data removed]"
          },
          "metadata": {}
        }
      ]
    },
    {
      "cell_type": "code",
      "source": [
        "from sklearn.ensemble import GradientBoostingClassifier\n",
        "import time\n",
        "import warnings\n",
        "warnings.filterwarnings('ignore')\n",
        "\n",
        "X_train,X_test,y_train,y_test=get_human_dataset()\n",
        "\n",
        "# GBM 수행 시간 측정을 위함. 시작 시간 설정.\n",
        "start_time=time.time()\n",
        "\n",
        "gb_clf=GradientBoostingClassifier(random_state=0)\n",
        "gb_clf.fit(X_train,y_train)\n",
        "gb_pred=gb_clf.predict(X_test)\n",
        "gb_accuracy=accuracy_score(y_test,gb_pred)\n",
        "\n",
        "print('GBM 정확도: {0:.4f}'.format(gb_accuracy))\n",
        "print(\"GBM 수행 시간: {0:.1f}초\".format(time.time()-start_time))"
      ],
      "metadata": {
        "colab": {
          "base_uri": "https://localhost:8080/"
        },
        "id": "3cOoxJgVjxYc",
        "outputId": "51d27756-89b3-4be5-f9fd-395055f01a68"
      },
      "execution_count": 8,
      "outputs": [
        {
          "output_type": "stream",
          "name": "stdout",
          "text": [
            "GBM 정확도: 0.9379\n",
            "GBM 수행 시간: 1667.9초\n"
          ]
        }
      ]
    },
    {
      "cell_type": "code",
      "source": [
        "pip install xgboost==1.5.0"
      ],
      "metadata": {
        "colab": {
          "base_uri": "https://localhost:8080/"
        },
        "id": "6MknaV86kWNJ",
        "outputId": "96786cd2-7891-4900-e15d-0308f38b1cc5"
      },
      "execution_count": 9,
      "outputs": [
        {
          "output_type": "stream",
          "name": "stdout",
          "text": [
            "Collecting xgboost==1.5.0\n",
            "  Downloading xgboost-1.5.0-py3-none-manylinux2014_x86_64.whl.metadata (1.7 kB)\n",
            "Requirement already satisfied: numpy in /usr/local/lib/python3.11/dist-packages (from xgboost==1.5.0) (2.0.2)\n",
            "Requirement already satisfied: scipy in /usr/local/lib/python3.11/dist-packages (from xgboost==1.5.0) (1.14.1)\n",
            "Downloading xgboost-1.5.0-py3-none-manylinux2014_x86_64.whl (173.5 MB)\n",
            "\u001b[2K   \u001b[90m━━━━━━━━━━━━━━━━━━━━━━━━━━━━━━━━━━━━━━━━\u001b[0m \u001b[32m173.5/173.5 MB\u001b[0m \u001b[31m4.8 MB/s\u001b[0m eta \u001b[36m0:00:00\u001b[0m\n",
            "\u001b[?25hInstalling collected packages: xgboost\n",
            "  Attempting uninstall: xgboost\n",
            "    Found existing installation: xgboost 2.1.4\n",
            "    Uninstalling xgboost-2.1.4:\n",
            "      Successfully uninstalled xgboost-2.1.4\n",
            "Successfully installed xgboost-1.5.0\n"
          ]
        }
      ]
    },
    {
      "cell_type": "code",
      "source": [
        "import xgboost as xgb\n",
        "from xgboost import XGBClassifier"
      ],
      "metadata": {
        "id": "734nO09BkhPh"
      },
      "execution_count": 10,
      "outputs": []
    },
    {
      "cell_type": "code",
      "source": [
        "import xgboost\n",
        "\n",
        "print(xgboost.__version__)"
      ],
      "metadata": {
        "colab": {
          "base_uri": "https://localhost:8080/"
        },
        "id": "-ZnZEIeck1yw",
        "outputId": "9d363199-26a8-43fc-f5e9-8827aa6e2b39"
      },
      "execution_count": 11,
      "outputs": [
        {
          "output_type": "stream",
          "name": "stdout",
          "text": [
            "1.5.0\n"
          ]
        }
      ]
    },
    {
      "cell_type": "code",
      "source": [
        "import xgboost as xgb\n",
        "from xgboost import plot_importance\n",
        "import pandas as pd\n",
        "import numpy as np\n",
        "from sklearn.datasets import load_breast_cancer\n",
        "from sklearn.model_selection import train_test_split\n",
        "import warnings\n",
        "warnings.filterwarnings('ignore')\n",
        "\n",
        "dataset=load_breast_cancer()\n",
        "features=dataset.data\n",
        "labels=dataset.target\n",
        "\n",
        "cancer_df=pd.DataFrame(data=features,columns=dataset.feature_names)\n",
        "cancer_df['target']=labels\n",
        "cancer_df.head(3)"
      ],
      "metadata": {
        "colab": {
          "base_uri": "https://localhost:8080/",
          "height": 208
        },
        "id": "iogNtL5Lk-Bb",
        "outputId": "e6800642-7802-40e4-eb81-cc896272df53"
      },
      "execution_count": 12,
      "outputs": [
        {
          "output_type": "execute_result",
          "data": {
            "text/plain": [
              "   mean radius  mean texture  mean perimeter  mean area  mean smoothness  \\\n",
              "0        17.99         10.38           122.8     1001.0          0.11840   \n",
              "1        20.57         17.77           132.9     1326.0          0.08474   \n",
              "2        19.69         21.25           130.0     1203.0          0.10960   \n",
              "\n",
              "   mean compactness  mean concavity  mean concave points  mean symmetry  \\\n",
              "0           0.27760          0.3001              0.14710         0.2419   \n",
              "1           0.07864          0.0869              0.07017         0.1812   \n",
              "2           0.15990          0.1974              0.12790         0.2069   \n",
              "\n",
              "   mean fractal dimension  ...  worst texture  worst perimeter  worst area  \\\n",
              "0                 0.07871  ...          17.33            184.6      2019.0   \n",
              "1                 0.05667  ...          23.41            158.8      1956.0   \n",
              "2                 0.05999  ...          25.53            152.5      1709.0   \n",
              "\n",
              "   worst smoothness  worst compactness  worst concavity  worst concave points  \\\n",
              "0            0.1622             0.6656           0.7119                0.2654   \n",
              "1            0.1238             0.1866           0.2416                0.1860   \n",
              "2            0.1444             0.4245           0.4504                0.2430   \n",
              "\n",
              "   worst symmetry  worst fractal dimension  target  \n",
              "0          0.4601                  0.11890       0  \n",
              "1          0.2750                  0.08902       0  \n",
              "2          0.3613                  0.08758       0  \n",
              "\n",
              "[3 rows x 31 columns]"
            ],
            "text/html": [
              "\n",
              "  <div id=\"df-955949e1-713b-434f-ad5f-5d8195124050\" class=\"colab-df-container\">\n",
              "    <div>\n",
              "<style scoped>\n",
              "    .dataframe tbody tr th:only-of-type {\n",
              "        vertical-align: middle;\n",
              "    }\n",
              "\n",
              "    .dataframe tbody tr th {\n",
              "        vertical-align: top;\n",
              "    }\n",
              "\n",
              "    .dataframe thead th {\n",
              "        text-align: right;\n",
              "    }\n",
              "</style>\n",
              "<table border=\"1\" class=\"dataframe\">\n",
              "  <thead>\n",
              "    <tr style=\"text-align: right;\">\n",
              "      <th></th>\n",
              "      <th>mean radius</th>\n",
              "      <th>mean texture</th>\n",
              "      <th>mean perimeter</th>\n",
              "      <th>mean area</th>\n",
              "      <th>mean smoothness</th>\n",
              "      <th>mean compactness</th>\n",
              "      <th>mean concavity</th>\n",
              "      <th>mean concave points</th>\n",
              "      <th>mean symmetry</th>\n",
              "      <th>mean fractal dimension</th>\n",
              "      <th>...</th>\n",
              "      <th>worst texture</th>\n",
              "      <th>worst perimeter</th>\n",
              "      <th>worst area</th>\n",
              "      <th>worst smoothness</th>\n",
              "      <th>worst compactness</th>\n",
              "      <th>worst concavity</th>\n",
              "      <th>worst concave points</th>\n",
              "      <th>worst symmetry</th>\n",
              "      <th>worst fractal dimension</th>\n",
              "      <th>target</th>\n",
              "    </tr>\n",
              "  </thead>\n",
              "  <tbody>\n",
              "    <tr>\n",
              "      <th>0</th>\n",
              "      <td>17.99</td>\n",
              "      <td>10.38</td>\n",
              "      <td>122.8</td>\n",
              "      <td>1001.0</td>\n",
              "      <td>0.11840</td>\n",
              "      <td>0.27760</td>\n",
              "      <td>0.3001</td>\n",
              "      <td>0.14710</td>\n",
              "      <td>0.2419</td>\n",
              "      <td>0.07871</td>\n",
              "      <td>...</td>\n",
              "      <td>17.33</td>\n",
              "      <td>184.6</td>\n",
              "      <td>2019.0</td>\n",
              "      <td>0.1622</td>\n",
              "      <td>0.6656</td>\n",
              "      <td>0.7119</td>\n",
              "      <td>0.2654</td>\n",
              "      <td>0.4601</td>\n",
              "      <td>0.11890</td>\n",
              "      <td>0</td>\n",
              "    </tr>\n",
              "    <tr>\n",
              "      <th>1</th>\n",
              "      <td>20.57</td>\n",
              "      <td>17.77</td>\n",
              "      <td>132.9</td>\n",
              "      <td>1326.0</td>\n",
              "      <td>0.08474</td>\n",
              "      <td>0.07864</td>\n",
              "      <td>0.0869</td>\n",
              "      <td>0.07017</td>\n",
              "      <td>0.1812</td>\n",
              "      <td>0.05667</td>\n",
              "      <td>...</td>\n",
              "      <td>23.41</td>\n",
              "      <td>158.8</td>\n",
              "      <td>1956.0</td>\n",
              "      <td>0.1238</td>\n",
              "      <td>0.1866</td>\n",
              "      <td>0.2416</td>\n",
              "      <td>0.1860</td>\n",
              "      <td>0.2750</td>\n",
              "      <td>0.08902</td>\n",
              "      <td>0</td>\n",
              "    </tr>\n",
              "    <tr>\n",
              "      <th>2</th>\n",
              "      <td>19.69</td>\n",
              "      <td>21.25</td>\n",
              "      <td>130.0</td>\n",
              "      <td>1203.0</td>\n",
              "      <td>0.10960</td>\n",
              "      <td>0.15990</td>\n",
              "      <td>0.1974</td>\n",
              "      <td>0.12790</td>\n",
              "      <td>0.2069</td>\n",
              "      <td>0.05999</td>\n",
              "      <td>...</td>\n",
              "      <td>25.53</td>\n",
              "      <td>152.5</td>\n",
              "      <td>1709.0</td>\n",
              "      <td>0.1444</td>\n",
              "      <td>0.4245</td>\n",
              "      <td>0.4504</td>\n",
              "      <td>0.2430</td>\n",
              "      <td>0.3613</td>\n",
              "      <td>0.08758</td>\n",
              "      <td>0</td>\n",
              "    </tr>\n",
              "  </tbody>\n",
              "</table>\n",
              "<p>3 rows × 31 columns</p>\n",
              "</div>\n",
              "    <div class=\"colab-df-buttons\">\n",
              "\n",
              "  <div class=\"colab-df-container\">\n",
              "    <button class=\"colab-df-convert\" onclick=\"convertToInteractive('df-955949e1-713b-434f-ad5f-5d8195124050')\"\n",
              "            title=\"Convert this dataframe to an interactive table.\"\n",
              "            style=\"display:none;\">\n",
              "\n",
              "  <svg xmlns=\"http://www.w3.org/2000/svg\" height=\"24px\" viewBox=\"0 -960 960 960\">\n",
              "    <path d=\"M120-120v-720h720v720H120Zm60-500h600v-160H180v160Zm220 220h160v-160H400v160Zm0 220h160v-160H400v160ZM180-400h160v-160H180v160Zm440 0h160v-160H620v160ZM180-180h160v-160H180v160Zm440 0h160v-160H620v160Z\"/>\n",
              "  </svg>\n",
              "    </button>\n",
              "\n",
              "  <style>\n",
              "    .colab-df-container {\n",
              "      display:flex;\n",
              "      gap: 12px;\n",
              "    }\n",
              "\n",
              "    .colab-df-convert {\n",
              "      background-color: #E8F0FE;\n",
              "      border: none;\n",
              "      border-radius: 50%;\n",
              "      cursor: pointer;\n",
              "      display: none;\n",
              "      fill: #1967D2;\n",
              "      height: 32px;\n",
              "      padding: 0 0 0 0;\n",
              "      width: 32px;\n",
              "    }\n",
              "\n",
              "    .colab-df-convert:hover {\n",
              "      background-color: #E2EBFA;\n",
              "      box-shadow: 0px 1px 2px rgba(60, 64, 67, 0.3), 0px 1px 3px 1px rgba(60, 64, 67, 0.15);\n",
              "      fill: #174EA6;\n",
              "    }\n",
              "\n",
              "    .colab-df-buttons div {\n",
              "      margin-bottom: 4px;\n",
              "    }\n",
              "\n",
              "    [theme=dark] .colab-df-convert {\n",
              "      background-color: #3B4455;\n",
              "      fill: #D2E3FC;\n",
              "    }\n",
              "\n",
              "    [theme=dark] .colab-df-convert:hover {\n",
              "      background-color: #434B5C;\n",
              "      box-shadow: 0px 1px 3px 1px rgba(0, 0, 0, 0.15);\n",
              "      filter: drop-shadow(0px 1px 2px rgba(0, 0, 0, 0.3));\n",
              "      fill: #FFFFFF;\n",
              "    }\n",
              "  </style>\n",
              "\n",
              "    <script>\n",
              "      const buttonEl =\n",
              "        document.querySelector('#df-955949e1-713b-434f-ad5f-5d8195124050 button.colab-df-convert');\n",
              "      buttonEl.style.display =\n",
              "        google.colab.kernel.accessAllowed ? 'block' : 'none';\n",
              "\n",
              "      async function convertToInteractive(key) {\n",
              "        const element = document.querySelector('#df-955949e1-713b-434f-ad5f-5d8195124050');\n",
              "        const dataTable =\n",
              "          await google.colab.kernel.invokeFunction('convertToInteractive',\n",
              "                                                    [key], {});\n",
              "        if (!dataTable) return;\n",
              "\n",
              "        const docLinkHtml = 'Like what you see? Visit the ' +\n",
              "          '<a target=\"_blank\" href=https://colab.research.google.com/notebooks/data_table.ipynb>data table notebook</a>'\n",
              "          + ' to learn more about interactive tables.';\n",
              "        element.innerHTML = '';\n",
              "        dataTable['output_type'] = 'display_data';\n",
              "        await google.colab.output.renderOutput(dataTable, element);\n",
              "        const docLink = document.createElement('div');\n",
              "        docLink.innerHTML = docLinkHtml;\n",
              "        element.appendChild(docLink);\n",
              "      }\n",
              "    </script>\n",
              "  </div>\n",
              "\n",
              "\n",
              "<div id=\"df-c4f0aa97-f234-4bb1-832f-4069aa2a32a1\">\n",
              "  <button class=\"colab-df-quickchart\" onclick=\"quickchart('df-c4f0aa97-f234-4bb1-832f-4069aa2a32a1')\"\n",
              "            title=\"Suggest charts\"\n",
              "            style=\"display:none;\">\n",
              "\n",
              "<svg xmlns=\"http://www.w3.org/2000/svg\" height=\"24px\"viewBox=\"0 0 24 24\"\n",
              "     width=\"24px\">\n",
              "    <g>\n",
              "        <path d=\"M19 3H5c-1.1 0-2 .9-2 2v14c0 1.1.9 2 2 2h14c1.1 0 2-.9 2-2V5c0-1.1-.9-2-2-2zM9 17H7v-7h2v7zm4 0h-2V7h2v10zm4 0h-2v-4h2v4z\"/>\n",
              "    </g>\n",
              "</svg>\n",
              "  </button>\n",
              "\n",
              "<style>\n",
              "  .colab-df-quickchart {\n",
              "      --bg-color: #E8F0FE;\n",
              "      --fill-color: #1967D2;\n",
              "      --hover-bg-color: #E2EBFA;\n",
              "      --hover-fill-color: #174EA6;\n",
              "      --disabled-fill-color: #AAA;\n",
              "      --disabled-bg-color: #DDD;\n",
              "  }\n",
              "\n",
              "  [theme=dark] .colab-df-quickchart {\n",
              "      --bg-color: #3B4455;\n",
              "      --fill-color: #D2E3FC;\n",
              "      --hover-bg-color: #434B5C;\n",
              "      --hover-fill-color: #FFFFFF;\n",
              "      --disabled-bg-color: #3B4455;\n",
              "      --disabled-fill-color: #666;\n",
              "  }\n",
              "\n",
              "  .colab-df-quickchart {\n",
              "    background-color: var(--bg-color);\n",
              "    border: none;\n",
              "    border-radius: 50%;\n",
              "    cursor: pointer;\n",
              "    display: none;\n",
              "    fill: var(--fill-color);\n",
              "    height: 32px;\n",
              "    padding: 0;\n",
              "    width: 32px;\n",
              "  }\n",
              "\n",
              "  .colab-df-quickchart:hover {\n",
              "    background-color: var(--hover-bg-color);\n",
              "    box-shadow: 0 1px 2px rgba(60, 64, 67, 0.3), 0 1px 3px 1px rgba(60, 64, 67, 0.15);\n",
              "    fill: var(--button-hover-fill-color);\n",
              "  }\n",
              "\n",
              "  .colab-df-quickchart-complete:disabled,\n",
              "  .colab-df-quickchart-complete:disabled:hover {\n",
              "    background-color: var(--disabled-bg-color);\n",
              "    fill: var(--disabled-fill-color);\n",
              "    box-shadow: none;\n",
              "  }\n",
              "\n",
              "  .colab-df-spinner {\n",
              "    border: 2px solid var(--fill-color);\n",
              "    border-color: transparent;\n",
              "    border-bottom-color: var(--fill-color);\n",
              "    animation:\n",
              "      spin 1s steps(1) infinite;\n",
              "  }\n",
              "\n",
              "  @keyframes spin {\n",
              "    0% {\n",
              "      border-color: transparent;\n",
              "      border-bottom-color: var(--fill-color);\n",
              "      border-left-color: var(--fill-color);\n",
              "    }\n",
              "    20% {\n",
              "      border-color: transparent;\n",
              "      border-left-color: var(--fill-color);\n",
              "      border-top-color: var(--fill-color);\n",
              "    }\n",
              "    30% {\n",
              "      border-color: transparent;\n",
              "      border-left-color: var(--fill-color);\n",
              "      border-top-color: var(--fill-color);\n",
              "      border-right-color: var(--fill-color);\n",
              "    }\n",
              "    40% {\n",
              "      border-color: transparent;\n",
              "      border-right-color: var(--fill-color);\n",
              "      border-top-color: var(--fill-color);\n",
              "    }\n",
              "    60% {\n",
              "      border-color: transparent;\n",
              "      border-right-color: var(--fill-color);\n",
              "    }\n",
              "    80% {\n",
              "      border-color: transparent;\n",
              "      border-right-color: var(--fill-color);\n",
              "      border-bottom-color: var(--fill-color);\n",
              "    }\n",
              "    90% {\n",
              "      border-color: transparent;\n",
              "      border-bottom-color: var(--fill-color);\n",
              "    }\n",
              "  }\n",
              "</style>\n",
              "\n",
              "  <script>\n",
              "    async function quickchart(key) {\n",
              "      const quickchartButtonEl =\n",
              "        document.querySelector('#' + key + ' button');\n",
              "      quickchartButtonEl.disabled = true;  // To prevent multiple clicks.\n",
              "      quickchartButtonEl.classList.add('colab-df-spinner');\n",
              "      try {\n",
              "        const charts = await google.colab.kernel.invokeFunction(\n",
              "            'suggestCharts', [key], {});\n",
              "      } catch (error) {\n",
              "        console.error('Error during call to suggestCharts:', error);\n",
              "      }\n",
              "      quickchartButtonEl.classList.remove('colab-df-spinner');\n",
              "      quickchartButtonEl.classList.add('colab-df-quickchart-complete');\n",
              "    }\n",
              "    (() => {\n",
              "      let quickchartButtonEl =\n",
              "        document.querySelector('#df-c4f0aa97-f234-4bb1-832f-4069aa2a32a1 button');\n",
              "      quickchartButtonEl.style.display =\n",
              "        google.colab.kernel.accessAllowed ? 'block' : 'none';\n",
              "    })();\n",
              "  </script>\n",
              "</div>\n",
              "\n",
              "    </div>\n",
              "  </div>\n"
            ],
            "application/vnd.google.colaboratory.intrinsic+json": {
              "type": "dataframe",
              "variable_name": "cancer_df"
            }
          },
          "metadata": {},
          "execution_count": 12
        }
      ]
    },
    {
      "cell_type": "code",
      "source": [
        "print(dataset.target_names)\n",
        "print(cancer_df['target'].value_counts())"
      ],
      "metadata": {
        "colab": {
          "base_uri": "https://localhost:8080/"
        },
        "id": "jMTqd8rglq9A",
        "outputId": "3dd4de1f-6b8a-47c4-ba7b-8ef73deea605"
      },
      "execution_count": 13,
      "outputs": [
        {
          "output_type": "stream",
          "name": "stdout",
          "text": [
            "['malignant' 'benign']\n",
            "target\n",
            "1    357\n",
            "0    212\n",
            "Name: count, dtype: int64\n"
          ]
        }
      ]
    },
    {
      "cell_type": "code",
      "source": [
        "# cancer_df에서 feature용 DataFrame과 Label용 Series 객체 추출\n",
        "# 맨 마지막 칼럼이 Label임. Feature용 DataFrame은 cancer_df의 첫번째 칼럼에서 맨 마지막 두번째 칼럼까지를 :-1 슬라이싱으로 추출.\n",
        "X_features=cancer_df.iloc[:,:-1]\n",
        "y_label=cancer_df.iloc[:,-1]\n",
        "\n",
        "# 전체 데이터 중 80%는 학습용 데이터, 20%는 테스트용 데이터 추출\n",
        "X_train,X_test,y_train,y_test=train_test_split(X_features,y_label,test_size=0.2,random_state=156)\n",
        "\n",
        "# 위에서 만든 X_train, y_train을 다시 쪼개서 90%는 학습과 10%는 검증용 데이터로 분리\n",
        "X_tr,X_val,y_tr,y_val=train_test_split(X_train,y_train,test_size=0.1,random_state=156)\n",
        "\n",
        "print(X_train.shape,X_test.shape)\n",
        "print(X_tr.shape,X_val.shape)"
      ],
      "metadata": {
        "colab": {
          "base_uri": "https://localhost:8080/"
        },
        "id": "LdXQGrjflx0i",
        "outputId": "a37669f8-a7c3-412b-add7-fcb06aa17f62"
      },
      "execution_count": 14,
      "outputs": [
        {
          "output_type": "stream",
          "name": "stdout",
          "text": [
            "(455, 30) (114, 30)\n",
            "(409, 30) (46, 30)\n"
          ]
        }
      ]
    },
    {
      "cell_type": "code",
      "source": [
        "# 만약 구버전 XGBoost에서 DataFrame으로 DMatrix 생성이 안 될 경우 X_train.values로 넘파이 변환.\n",
        "# 학습, 검증, 테스트용 DMatrix를 생성.\n",
        "dtr=xgb.DMatrix(data=X_tr.values, label=y_tr)\n",
        "dval=xgb.DMatrix(data=X_val.values, label=y_val)\n",
        "dtest=xgb.DMatrix(data=X_test.values, label=y_test)"
      ],
      "metadata": {
        "id": "UYYAkqkhndFV"
      },
      "execution_count": 15,
      "outputs": []
    },
    {
      "cell_type": "code",
      "source": [
        "params= { 'max_depth':3,\n",
        "          'eta':0.05,\n",
        "          'objective':'binary:logistic',\n",
        "          'eval_metrics':'logloss'\n",
        "           }\n",
        "num_rounds=400"
      ],
      "metadata": {
        "id": "h7g9h8KVoLf9"
      },
      "execution_count": 16,
      "outputs": []
    },
    {
      "cell_type": "code",
      "source": [
        "# 학습 데이터 셋은 'train' 또는 평가 데이터 셋은 'eval'로 명기합니다.\n",
        "eval_list=[(dtr,'train'),(dval,'eval')] # 또는 eval_list=[(dval,'eval')] 만 명기해도 무방.\n",
        "\n",
        "# 하이퍼 파라미터와 early stopping 파라미터를 train() 함수의 파라미터로 전달\n",
        "xgb_model=xgb.train(params=params,dtrain=dtr,num_boost_round=num_rounds,early_stopping_rounds=50,evals=eval_list)"
      ],
      "metadata": {
        "colab": {
          "base_uri": "https://localhost:8080/"
        },
        "id": "L79OGkZso0FG",
        "outputId": "16ebf525-d075-401f-cd3c-c9bdd62b9955"
      },
      "execution_count": 17,
      "outputs": [
        {
          "output_type": "stream",
          "name": "stdout",
          "text": [
            "[07:34:07] WARNING: ../src/learner.cc:576: \n",
            "Parameters: { \"eval_metrics\" } might not be used.\n",
            "\n",
            "  This could be a false alarm, with some parameters getting used by language bindings but\n",
            "  then being mistakenly passed down to XGBoost core, or some parameter actually being used\n",
            "  but getting flagged wrongly here. Please open an issue if you find any such cases.\n",
            "\n",
            "\n",
            "[07:34:07] WARNING: ../src/learner.cc:1115: Starting in XGBoost 1.3.0, the default evaluation metric used with the objective 'binary:logistic' was changed from 'error' to 'logloss'. Explicitly set eval_metric if you'd like to restore the old behavior.\n",
            "[0]\ttrain-logloss:0.65016\teval-logloss:0.66183\n",
            "[1]\ttrain-logloss:0.61131\teval-logloss:0.63609\n",
            "[2]\ttrain-logloss:0.57563\teval-logloss:0.61144\n",
            "[3]\ttrain-logloss:0.54310\teval-logloss:0.59204\n",
            "[4]\ttrain-logloss:0.51323\teval-logloss:0.57329\n",
            "[5]\ttrain-logloss:0.48447\teval-logloss:0.55037\n",
            "[6]\ttrain-logloss:0.45796\teval-logloss:0.52929\n",
            "[7]\ttrain-logloss:0.43436\teval-logloss:0.51534\n",
            "[8]\ttrain-logloss:0.41150\teval-logloss:0.49718\n",
            "[9]\ttrain-logloss:0.39027\teval-logloss:0.48154\n",
            "[10]\ttrain-logloss:0.37128\teval-logloss:0.46990\n",
            "[11]\ttrain-logloss:0.35254\teval-logloss:0.45474\n",
            "[12]\ttrain-logloss:0.33528\teval-logloss:0.44229\n",
            "[13]\ttrain-logloss:0.31893\teval-logloss:0.42961\n",
            "[14]\ttrain-logloss:0.30439\teval-logloss:0.42065\n",
            "[15]\ttrain-logloss:0.29000\teval-logloss:0.40958\n",
            "[16]\ttrain-logloss:0.27651\teval-logloss:0.39887\n",
            "[17]\ttrain-logloss:0.26389\teval-logloss:0.39050\n",
            "[18]\ttrain-logloss:0.25210\teval-logloss:0.38254\n",
            "[19]\ttrain-logloss:0.24123\teval-logloss:0.37393\n",
            "[20]\ttrain-logloss:0.23076\teval-logloss:0.36789\n",
            "[21]\ttrain-logloss:0.22091\teval-logloss:0.36017\n",
            "[22]\ttrain-logloss:0.21155\teval-logloss:0.35421\n",
            "[23]\ttrain-logloss:0.20263\teval-logloss:0.34683\n",
            "[24]\ttrain-logloss:0.19434\teval-logloss:0.34111\n",
            "[25]\ttrain-logloss:0.18637\teval-logloss:0.33634\n",
            "[26]\ttrain-logloss:0.17875\teval-logloss:0.33082\n",
            "[27]\ttrain-logloss:0.17167\teval-logloss:0.32675\n",
            "[28]\ttrain-logloss:0.16481\teval-logloss:0.32099\n",
            "[29]\ttrain-logloss:0.15835\teval-logloss:0.31671\n",
            "[30]\ttrain-logloss:0.15225\teval-logloss:0.31277\n",
            "[31]\ttrain-logloss:0.14650\teval-logloss:0.30882\n",
            "[32]\ttrain-logloss:0.14102\teval-logloss:0.30437\n",
            "[33]\ttrain-logloss:0.13590\teval-logloss:0.30103\n",
            "[34]\ttrain-logloss:0.13109\teval-logloss:0.29794\n",
            "[35]\ttrain-logloss:0.12647\teval-logloss:0.29499\n",
            "[36]\ttrain-logloss:0.12197\teval-logloss:0.29295\n",
            "[37]\ttrain-logloss:0.11784\teval-logloss:0.29043\n",
            "[38]\ttrain-logloss:0.11379\teval-logloss:0.28927\n",
            "[39]\ttrain-logloss:0.10994\teval-logloss:0.28578\n",
            "[40]\ttrain-logloss:0.10638\teval-logloss:0.28364\n",
            "[41]\ttrain-logloss:0.10302\teval-logloss:0.28183\n",
            "[42]\ttrain-logloss:0.09963\teval-logloss:0.28005\n",
            "[43]\ttrain-logloss:0.09649\teval-logloss:0.27972\n",
            "[44]\ttrain-logloss:0.09359\teval-logloss:0.27744\n",
            "[45]\ttrain-logloss:0.09080\teval-logloss:0.27542\n",
            "[46]\ttrain-logloss:0.08807\teval-logloss:0.27504\n",
            "[47]\ttrain-logloss:0.08541\teval-logloss:0.27458\n",
            "[48]\ttrain-logloss:0.08299\teval-logloss:0.27348\n",
            "[49]\ttrain-logloss:0.08035\teval-logloss:0.27247\n",
            "[50]\ttrain-logloss:0.07786\teval-logloss:0.27163\n",
            "[51]\ttrain-logloss:0.07550\teval-logloss:0.27094\n",
            "[52]\ttrain-logloss:0.07344\teval-logloss:0.26967\n",
            "[53]\ttrain-logloss:0.07147\teval-logloss:0.27008\n",
            "[54]\ttrain-logloss:0.06964\teval-logloss:0.26890\n",
            "[55]\ttrain-logloss:0.06766\teval-logloss:0.26854\n",
            "[56]\ttrain-logloss:0.06592\teval-logloss:0.26900\n",
            "[57]\ttrain-logloss:0.06433\teval-logloss:0.26790\n",
            "[58]\ttrain-logloss:0.06259\teval-logloss:0.26663\n",
            "[59]\ttrain-logloss:0.06107\teval-logloss:0.26743\n",
            "[60]\ttrain-logloss:0.05957\teval-logloss:0.26610\n",
            "[61]\ttrain-logloss:0.05817\teval-logloss:0.26644\n",
            "[62]\ttrain-logloss:0.05691\teval-logloss:0.26673\n",
            "[63]\ttrain-logloss:0.05550\teval-logloss:0.26550\n",
            "[64]\ttrain-logloss:0.05422\teval-logloss:0.26443\n",
            "[65]\ttrain-logloss:0.05311\teval-logloss:0.26500\n",
            "[66]\ttrain-logloss:0.05207\teval-logloss:0.26591\n",
            "[67]\ttrain-logloss:0.05093\teval-logloss:0.26501\n",
            "[68]\ttrain-logloss:0.04976\teval-logloss:0.26435\n",
            "[69]\ttrain-logloss:0.04872\teval-logloss:0.26360\n",
            "[70]\ttrain-logloss:0.04776\teval-logloss:0.26319\n",
            "[71]\ttrain-logloss:0.04680\teval-logloss:0.26255\n",
            "[72]\ttrain-logloss:0.04580\teval-logloss:0.26204\n",
            "[73]\ttrain-logloss:0.04484\teval-logloss:0.26254\n",
            "[74]\ttrain-logloss:0.04388\teval-logloss:0.26289\n",
            "[75]\ttrain-logloss:0.04309\teval-logloss:0.26249\n",
            "[76]\ttrain-logloss:0.04224\teval-logloss:0.26217\n",
            "[77]\ttrain-logloss:0.04133\teval-logloss:0.26166\n",
            "[78]\ttrain-logloss:0.04050\teval-logloss:0.26179\n",
            "[79]\ttrain-logloss:0.03967\teval-logloss:0.26103\n",
            "[80]\ttrain-logloss:0.03877\teval-logloss:0.26094\n",
            "[81]\ttrain-logloss:0.03806\teval-logloss:0.26148\n",
            "[82]\ttrain-logloss:0.03740\teval-logloss:0.26054\n",
            "[83]\ttrain-logloss:0.03676\teval-logloss:0.25967\n",
            "[84]\ttrain-logloss:0.03605\teval-logloss:0.25905\n",
            "[85]\ttrain-logloss:0.03545\teval-logloss:0.26007\n",
            "[86]\ttrain-logloss:0.03488\teval-logloss:0.25984\n",
            "[87]\ttrain-logloss:0.03425\teval-logloss:0.25933\n",
            "[88]\ttrain-logloss:0.03361\teval-logloss:0.25932\n",
            "[89]\ttrain-logloss:0.03311\teval-logloss:0.26002\n",
            "[90]\ttrain-logloss:0.03260\teval-logloss:0.25936\n",
            "[91]\ttrain-logloss:0.03202\teval-logloss:0.25886\n",
            "[92]\ttrain-logloss:0.03152\teval-logloss:0.25918\n",
            "[93]\ttrain-logloss:0.03107\teval-logloss:0.25865\n",
            "[94]\ttrain-logloss:0.03049\teval-logloss:0.25951\n",
            "[95]\ttrain-logloss:0.03007\teval-logloss:0.26091\n",
            "[96]\ttrain-logloss:0.02963\teval-logloss:0.26014\n",
            "[97]\ttrain-logloss:0.02913\teval-logloss:0.25974\n",
            "[98]\ttrain-logloss:0.02866\teval-logloss:0.25937\n",
            "[99]\ttrain-logloss:0.02829\teval-logloss:0.25893\n",
            "[100]\ttrain-logloss:0.02789\teval-logloss:0.25928\n",
            "[101]\ttrain-logloss:0.02751\teval-logloss:0.25955\n",
            "[102]\ttrain-logloss:0.02714\teval-logloss:0.25901\n",
            "[103]\ttrain-logloss:0.02668\teval-logloss:0.25991\n",
            "[104]\ttrain-logloss:0.02634\teval-logloss:0.25950\n",
            "[105]\ttrain-logloss:0.02594\teval-logloss:0.25924\n",
            "[106]\ttrain-logloss:0.02556\teval-logloss:0.25901\n",
            "[107]\ttrain-logloss:0.02522\teval-logloss:0.25738\n",
            "[108]\ttrain-logloss:0.02492\teval-logloss:0.25702\n",
            "[109]\ttrain-logloss:0.02453\teval-logloss:0.25789\n",
            "[110]\ttrain-logloss:0.02418\teval-logloss:0.25770\n",
            "[111]\ttrain-logloss:0.02384\teval-logloss:0.25842\n",
            "[112]\ttrain-logloss:0.02356\teval-logloss:0.25810\n",
            "[113]\ttrain-logloss:0.02322\teval-logloss:0.25848\n",
            "[114]\ttrain-logloss:0.02290\teval-logloss:0.25833\n",
            "[115]\ttrain-logloss:0.02260\teval-logloss:0.25820\n",
            "[116]\ttrain-logloss:0.02229\teval-logloss:0.25905\n",
            "[117]\ttrain-logloss:0.02204\teval-logloss:0.25878\n",
            "[118]\ttrain-logloss:0.02176\teval-logloss:0.25728\n",
            "[119]\ttrain-logloss:0.02149\teval-logloss:0.25722\n",
            "[120]\ttrain-logloss:0.02119\teval-logloss:0.25764\n",
            "[121]\ttrain-logloss:0.02095\teval-logloss:0.25761\n",
            "[122]\ttrain-logloss:0.02067\teval-logloss:0.25832\n",
            "[123]\ttrain-logloss:0.02045\teval-logloss:0.25808\n",
            "[124]\ttrain-logloss:0.02023\teval-logloss:0.25855\n",
            "[125]\ttrain-logloss:0.01998\teval-logloss:0.25714\n",
            "[126]\ttrain-logloss:0.01973\teval-logloss:0.25587\n",
            "[127]\ttrain-logloss:0.01946\teval-logloss:0.25640\n",
            "[128]\ttrain-logloss:0.01927\teval-logloss:0.25685\n",
            "[129]\ttrain-logloss:0.01908\teval-logloss:0.25665\n",
            "[130]\ttrain-logloss:0.01886\teval-logloss:0.25712\n",
            "[131]\ttrain-logloss:0.01863\teval-logloss:0.25609\n",
            "[132]\ttrain-logloss:0.01839\teval-logloss:0.25649\n",
            "[133]\ttrain-logloss:0.01816\teval-logloss:0.25789\n",
            "[134]\ttrain-logloss:0.01802\teval-logloss:0.25811\n",
            "[135]\ttrain-logloss:0.01785\teval-logloss:0.25794\n",
            "[136]\ttrain-logloss:0.01763\teval-logloss:0.25876\n",
            "[137]\ttrain-logloss:0.01748\teval-logloss:0.25884\n",
            "[138]\ttrain-logloss:0.01732\teval-logloss:0.25867\n",
            "[139]\ttrain-logloss:0.01719\teval-logloss:0.25876\n",
            "[140]\ttrain-logloss:0.01696\teval-logloss:0.25987\n",
            "[141]\ttrain-logloss:0.01681\teval-logloss:0.25960\n",
            "[142]\ttrain-logloss:0.01669\teval-logloss:0.25982\n",
            "[143]\ttrain-logloss:0.01656\teval-logloss:0.25992\n",
            "[144]\ttrain-logloss:0.01638\teval-logloss:0.26035\n",
            "[145]\ttrain-logloss:0.01623\teval-logloss:0.26055\n",
            "[146]\ttrain-logloss:0.01606\teval-logloss:0.26092\n",
            "[147]\ttrain-logloss:0.01589\teval-logloss:0.26137\n",
            "[148]\ttrain-logloss:0.01572\teval-logloss:0.25999\n",
            "[149]\ttrain-logloss:0.01557\teval-logloss:0.26028\n",
            "[150]\ttrain-logloss:0.01546\teval-logloss:0.26048\n",
            "[151]\ttrain-logloss:0.01531\teval-logloss:0.26142\n",
            "[152]\ttrain-logloss:0.01515\teval-logloss:0.26188\n",
            "[153]\ttrain-logloss:0.01501\teval-logloss:0.26227\n",
            "[154]\ttrain-logloss:0.01486\teval-logloss:0.26287\n",
            "[155]\ttrain-logloss:0.01476\teval-logloss:0.26299\n",
            "[156]\ttrain-logloss:0.01461\teval-logloss:0.26346\n",
            "[157]\ttrain-logloss:0.01448\teval-logloss:0.26379\n",
            "[158]\ttrain-logloss:0.01434\teval-logloss:0.26306\n",
            "[159]\ttrain-logloss:0.01424\teval-logloss:0.26237\n",
            "[160]\ttrain-logloss:0.01410\teval-logloss:0.26251\n",
            "[161]\ttrain-logloss:0.01401\teval-logloss:0.26265\n",
            "[162]\ttrain-logloss:0.01392\teval-logloss:0.26264\n",
            "[163]\ttrain-logloss:0.01380\teval-logloss:0.26250\n",
            "[164]\ttrain-logloss:0.01372\teval-logloss:0.26264\n",
            "[165]\ttrain-logloss:0.01359\teval-logloss:0.26255\n",
            "[166]\ttrain-logloss:0.01350\teval-logloss:0.26188\n",
            "[167]\ttrain-logloss:0.01342\teval-logloss:0.26203\n",
            "[168]\ttrain-logloss:0.01331\teval-logloss:0.26190\n",
            "[169]\ttrain-logloss:0.01319\teval-logloss:0.26184\n",
            "[170]\ttrain-logloss:0.01312\teval-logloss:0.26133\n",
            "[171]\ttrain-logloss:0.01304\teval-logloss:0.26148\n",
            "[172]\ttrain-logloss:0.01297\teval-logloss:0.26157\n",
            "[173]\ttrain-logloss:0.01285\teval-logloss:0.26253\n",
            "[174]\ttrain-logloss:0.01278\teval-logloss:0.26229\n",
            "[175]\ttrain-logloss:0.01267\teval-logloss:0.26086\n",
            "[176]\ttrain-logloss:0.01258\teval-logloss:0.26103\n"
          ]
        }
      ]
    },
    {
      "cell_type": "code",
      "source": [
        "pred_probs=xgb_model.predict(dtest)\n",
        "print('predict() 수행 결괏값을 10개만 표시, 예측 확률 값으로 표시됨')\n",
        "print(np.round(pred_probs[:10],3))\n",
        "\n",
        "# 예측 확률이 0.5보다 크면 1, 그렇지 않으면 0으로 예측값 결정하여 List 객체인 preds에 저장\n",
        "preds=[1 if x>0.5 else 0 for x in pred_probs]\n",
        "print('예측값 10개만 표시:',preds[:10])"
      ],
      "metadata": {
        "colab": {
          "base_uri": "https://localhost:8080/"
        },
        "id": "rdql6jjGpiLF",
        "outputId": "38f0550a-f871-4cd3-8839-94dff81e3b78"
      },
      "execution_count": 18,
      "outputs": [
        {
          "output_type": "stream",
          "name": "stdout",
          "text": [
            "predict() 수행 결괏값을 10개만 표시, 예측 확률 값으로 표시됨\n",
            "[0.845 0.008 0.68  0.081 0.975 0.999 0.998 0.998 0.996 0.001]\n",
            "예측값 10개만 표시: [5 5 5 5 5 5 5 5 5 5]\n"
          ]
        }
      ]
    },
    {
      "cell_type": "code",
      "source": [
        "# 이전 코드\n",
        "from sklearn.metrics import accuracy_score, precision_score, recall_score, confusion_matrix, f1_score, roc_auc_score\n",
        "from sklearn.linear_model import LogisticRegression\n",
        "from sklearn.preprocessing import StandardScaler\n",
        "\n",
        "def get_clf_eval(y_test,pred=None,pred_proba=None):\n",
        "    confusion=confusion_matrix(y_test,pred)\n",
        "    accuracy=accuracy_score(y_test,pred)\n",
        "    precision=precision_score(y_test,pred)\n",
        "    recall=recall_score(y_test,pred)\n",
        "    f1=f1_score(y_test,pred)\n",
        "\n",
        "    roc_auc=roc_auc_score(y_test,pred_proba)\n",
        "    print('오차 행렬')\n",
        "    print(confusion)\n",
        "\n",
        "    print('정확도: {0:.4f}, 정밀도: {1:.4f}, 재현율: {2:.4f}, F1:{3:.4f}, AUC:{4:.4f}'.format(accuracy,precision,recall,f1,roc_auc))"
      ],
      "metadata": {
        "id": "TtElmOgwxrHO"
      },
      "execution_count": 19,
      "outputs": []
    },
    {
      "cell_type": "code",
      "source": [
        "get_clf_eval(y_test,preds,pred_probs)"
      ],
      "metadata": {
        "colab": {
          "base_uri": "https://localhost:8080/"
        },
        "id": "fXmTUKGCqPgC",
        "outputId": "9d5d9103-2f58-42b2-c687-5f89cf4ae900"
      },
      "execution_count": 20,
      "outputs": [
        {
          "output_type": "stream",
          "name": "stdout",
          "text": [
            "오차 행렬\n",
            "[[34  3]\n",
            " [ 2 75]]\n",
            "정확도: 0.9561, 정밀도: 0.9615, 재현율: 0.9740, F1:0.9677, AUC:0.9937\n"
          ]
        }
      ]
    },
    {
      "cell_type": "code",
      "source": [
        "import matplotlib.pyplot as plt\n",
        "%matplotlib inline\n",
        "\n",
        "fig,ax=plt.subplots(figsize=(10,12))\n",
        "plot_importance(xgb_model,ax=ax)"
      ],
      "metadata": {
        "colab": {
          "base_uri": "https://localhost:8080/",
          "height": 1000
        },
        "id": "5OYjInAPx2U3",
        "outputId": "48ab7d66-e238-4579-e58d-7e9f791e3047"
      },
      "execution_count": 21,
      "outputs": [
        {
          "output_type": "execute_result",
          "data": {
            "text/plain": [
              "<Axes: title={'center': 'Feature importance'}, xlabel='F score', ylabel='Features'>"
            ]
          },
          "metadata": {},
          "execution_count": 21
        },
        {
          "output_type": "display_data",
          "data": {
            "text/plain": [
              "<Figure size 1000x1200 with 1 Axes>"
            ],
            "image/png": "[encoded data removed]"
          },
          "metadata": {}
        }
      ]
    },
    {
      "cell_type": "code",
      "source": [
        "'''# 사이킷런 래퍼 XGBoost 클래스인 XGBClassifier 임포트\n",
        "from xgboost import XGBClassifier\n",
        "\n",
        "# Warning 메시지를 없애기 위해 eval_metric 값을 XGBClassifier 생성 인자로 입력\n",
        "xgb_wrapper=XGBClassifier(n_estimators=400, learning_rate=0.05, max_depth=3,\n",
        "                          eval_metric=\"logloss\")\n",
        "xgb_wrapper.fit(X_train, y_train, verbose=True)\n",
        "w_preds=xgb_wrapper.predict(X_test)\n",
        "w_pred_proba=xgb_wrapper.predict_proba(X_test)[:,1]'''"
      ],
      "metadata": {
        "id": "WFlo63Sj2IB4"
      },
      "execution_count": null,
      "outputs": []
    },
    {
      "cell_type": "code",
      "source": [
        "# 대체 코드\n",
        "import xgboost as xgb\n",
        "\n",
        "dtrain = xgb.DMatrix(X_train.values, label=y_train)\n",
        "dtest = xgb.DMatrix(X_test.values)\n",
        "\n",
        "params = {\n",
        "    'objective': 'binary:logistic',\n",
        "    'eval_metric': 'logloss',\n",
        "    'max_depth': 3,\n",
        "    'learning_rate': 0.05\n",
        "}\n",
        "\n",
        "# 모델 훈련\n",
        "bst = xgb.train(params, dtrain, num_boost_round=400)\n",
        "\n",
        "# 예측\n",
        "w_preds = (bst.predict(dtest) > 0.5).astype(int)\n",
        "w_pred_proba = bst.predict(dtest)"
      ],
      "metadata": {
        "id": "YyvvicbR1pQ-"
      },
      "execution_count": 58,
      "outputs": []
    },
    {
      "cell_type": "code",
      "source": [
        "get_clf_eval(y_test,w_preds,w_pred_proba)"
      ],
      "metadata": {
        "colab": {
          "base_uri": "https://localhost:8080/"
        },
        "id": "VqLO_vUq02-F",
        "outputId": "8dde3b46-caf2-4905-b69a-e4bd8e06aaa0"
      },
      "execution_count": 42,
      "outputs": [
        {
          "output_type": "stream",
          "name": "stdout",
          "text": [
            "오차 행렬\n",
            "[[34  3]\n",
            " [ 1 76]]\n",
            "정확도: 0.9649, 정밀도: 0.9620, 재현율: 0.9870, F1:0.9744, AUC:0.9954\n"
          ]
        }
      ]
    },
    {
      "cell_type": "code",
      "source": [
        "'''from xgboost import XGBRFClassifier\n",
        "\n",
        "xgb_wrapper=XGBClassifier(n_estimators=400,learning_rate=0.05,max_depth=3)\n",
        "evals=[(X_tr,y_tr),(X_val,y_val)]\n",
        "xgb_wrapper.fit(X_tr,y_tr,early_stopping_rounds=50,eval_metric='logloss',eval_set=evals,verbose=True)\n",
        "\n",
        "ws50_preds=xgb_wrapper.predict(X_test)\n",
        "ws50_pred_proba=xgb_wrapper.predict_proba(X_test)[:,1]'''"
      ],
      "metadata": {
        "colab": {
          "base_uri": "https://localhost:8080/",
          "height": 54
        },
        "id": "_K64UVQLpKoJ",
        "outputId": "9ca082a0-5de1-471a-8a16-93b7adcc2cc5"
      },
      "execution_count": 62,
      "outputs": [
        {
          "output_type": "execute_result",
          "data": {
            "text/plain": [
              "\"from xgboost import XGBRFClassifier\\n\\nxgb_wrapper=XGBClassifier(n_estimators=400,learning_rate=0.05,max_depth=3)\\nevals=[(X_tr,y_tr),(X_val,y_val)]\\nxgb_wrapper.fit(X_tr,y_tr,early_stopping_rounds=50,eval_metric='logloss',eval_set=evals,verbose=True)\\n\\nws50_preds=xgb_wrapper.predict(X_test)\\nws50_pred_proba=xgb_wrapper.predict_proba(X_test)[:,1]\""
            ],
            "application/vnd.google.colaboratory.intrinsic+json": {
              "type": "string"
            }
          },
          "metadata": {},
          "execution_count": 62
        }
      ]
    },
    {
      "cell_type": "code",
      "source": [
        "# 대체 코드\n",
        "import xgboost as xgb\n",
        "\n",
        "dtrain = xgb.DMatrix(X_train.values, label=y_train)\n",
        "dtest = xgb.DMatrix(X_test.values)\n",
        "\n",
        "params = {\n",
        "    'objective': 'binary:logistic',\n",
        "    'eval_metric': 'logloss',\n",
        "    'max_depth': 3,\n",
        "    'learning_rate': 0.05\n",
        "}\n",
        "\n",
        "evals=[(X_tr,y_tr),(X_val,y_val)]\n",
        "\n",
        "# 예측\n",
        "ws50_preds = (bst.predict(dtest) > 0.5).astype(int)\n",
        "ws50_pred_proba = bst.predict(dtest)\n"
      ],
      "metadata": {
        "id": "88ViywgR58Jr"
      },
      "execution_count": 59,
      "outputs": []
    },
    {
      "cell_type": "code",
      "source": [
        "get_clf_eval(y_test,ws50_preds,ws50_pred_proba)"
      ],
      "metadata": {
        "colab": {
          "base_uri": "https://localhost:8080/"
        },
        "id": "3-p6qUu3pIL9",
        "outputId": "7594c044-a541-40bc-b668-99f8ad7c33fd"
      },
      "execution_count": 60,
      "outputs": [
        {
          "output_type": "stream",
          "name": "stdout",
          "text": [
            "오차 행렬\n",
            "[[34  3]\n",
            " [ 1 76]]\n",
            "정확도: 0.9649, 정밀도: 0.9620, 재현율: 0.9870, F1:0.9744, AUC:0.9954\n"
          ]
        }
      ]
    },
    {
      "cell_type": "code",
      "source": [
        "'''# early_stopping_rounds를 10으로 설정하고 재학습.\n",
        "xgb_wrapper.fit(X_tr,y_tr,early_stopping_rounds=10,eval_metric='logloss',eval_set=evals,verbose=True)\n",
        "\n",
        "ws10_preds=xgb_wrapper.predict(X_test)\n",
        "ws10_pred_proba=xgb_wrapper.predict_proba(X_test)[:,1]\n",
        "get_clf_eval(y_test,ws10_preds,ws10_pred_proba)'''"
      ],
      "metadata": {
        "colab": {
          "base_uri": "https://localhost:8080/",
          "height": 54
        },
        "id": "LLpnapHbpaXL",
        "outputId": "27c87fb3-b9c7-4bcc-a361-92c68b913983"
      },
      "execution_count": 68,
      "outputs": [
        {
          "output_type": "execute_result",
          "data": {
            "text/plain": [
              "\"# early_stopping_rounds를 10으로 설정하고 재학습.\\nxgb_wrapper.fit(X_tr,y_tr,early_stopping_rounds=10,eval_metric='logloss',eval_set=evals,verbose=True)\\n\\nws10_preds=xgb_wrapper.predict(X_test)\\nws10_pred_proba=xgb_wrapper.predict_proba(X_test)[:,1]\\nget_clf_eval(y_test,ws10_preds,ws10_pred_proba)\""
            ],
            "application/vnd.google.colaboratory.intrinsic+json": {
              "type": "string"
            }
          },
          "metadata": {},
          "execution_count": 68
        }
      ]
    },
    {
      "cell_type": "code",
      "source": [
        "# 대체 코드\n",
        "import xgboost as xgb\n",
        "\n",
        "dtrain = xgb.DMatrix(X_train.values, label=y_train)\n",
        "dtest = xgb.DMatrix(X_test.values)\n",
        "\n",
        "params = {\n",
        "    'objective': 'binary:logistic',\n",
        "    'early_stopping_rounds':10,\n",
        "    'eval_metric':'logloss',\n",
        "    'eval_set':'evals'\n",
        "}\n",
        "\n",
        "# 예측\n",
        "ws10_preds = (bst.predict(dtest) > 0.5).astype(int)\n",
        "ws10_pred_proba = bst.predict(dtest)\n",
        "get_clf_eval(y_test,ws10_preds,ws10_pred_proba)"
      ],
      "metadata": {
        "colab": {
          "base_uri": "https://localhost:8080/"
        },
        "id": "vIHbIi_G6Qw9",
        "outputId": "46b0cba5-6975-4dcf-eeb3-3b7070838033"
      },
      "execution_count": 63,
      "outputs": [
        {
          "output_type": "stream",
          "name": "stdout",
          "text": [
            "오차 행렬\n",
            "[[34  3]\n",
            " [ 1 76]]\n",
            "정확도: 0.9649, 정밀도: 0.9620, 재현율: 0.9870, F1:0.9744, AUC:0.9954\n"
          ]
        }
      ]
    },
    {
      "cell_type": "code",
      "source": [
        "from xgboost import plot_importance\n",
        "import matplotlib.pyplot as plt\n",
        "%matplotlib inline\n",
        "\n",
        "fig,ax=plt.subplots(figsize=(10,12))\n",
        "# 사이킷런 래퍼 클래스를 입력해도 무방.\n",
        "plot_importance(xgb_model,ax=ax)\n",
        "plt.show()"
      ],
      "metadata": {
        "colab": {
          "base_uri": "https://localhost:8080/",
          "height": 1000
        },
        "id": "c0WdrntQpgPb",
        "outputId": "a7ea7834-ebdf-40bf-f2ce-c9c88037cbf1"
      },
      "execution_count": 67,
      "outputs": [
        {
          "output_type": "display_data",
          "data": {
            "text/plain": [
              "<Figure size 1000x1200 with 1 Axes>"
            ],
            "image/png": "[encoded data removed]"
          },
          "metadata": {}
        }
      ]
    }
  ]
}