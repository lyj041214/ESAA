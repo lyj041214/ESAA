{
  "nbformat": 4,
  "nbformat_minor": 0,
  "metadata": {
    "colab": {
      "provenance": [],
      "include_colab_link": true
    },
    "kernelspec": {
      "name": "python3",
      "display_name": "Python 3"
    },
    "language_info": {
      "name": "python"
    }
  },
  "cells": [
    {
      "cell_type": "markdown",
      "metadata": {
        "id": "view-in-github",
        "colab_type": "text"
      },
      "source": [
        "<a href=\"https://colab.research.google.com/github/lyj041214/ESAA/blob/main/YB0404(2)_%ED%8F%89%EA%B0%80.ipynb\" target=\"_parent\"><img src=\"https://colab.research.google.com/assets/colab-badge.svg\" alt=\"Open In Colab\"/></a>"
      ]
    },
    {
      "cell_type": "code",
      "metadata": {
        "id": "4Zqc4O_BfWqZ",
        "colab": {
          "base_uri": "https://localhost:8080/"
        },
        "outputId": "5f6b5f4e-ef0d-463a-a5a1-9e675b9ae1a9"
      },
      "source": [
        "# 모듈 및 데이터 로드\n",
        "from sklearn.datasets import load_breast_cancer\n",
        "from sklearn.linear_model import LogisticRegression\n",
        "\n",
        "data = load_breast_cancer()\n",
        "\n",
        "# x, y 데이터 생성\n",
        "X = data.data\n",
        "\n",
        "# 악성을 1, 양성을 0으로\n",
        "y = 1 - data.target\n",
        "\n",
        "# 특징으로 사용할 데이터를 평균으로 구분하는 10개 열로 축소\n",
        "X = X[:, :10]\n",
        "\n",
        "# 로지스틱 회귀 모델 생성\n",
        "model_lor = LogisticRegression(solver = 'lbfgs')\n",
        "model_lor.fit(X,y)\n",
        "y_pred = model_lor.predict(X)"
      ],
      "execution_count": 8,
      "outputs": [
        {
          "output_type": "stream",
          "name": "stderr",
          "text": [
            "/usr/local/lib/python3.11/dist-packages/sklearn/linear_model/_logistic.py:465: ConvergenceWarning: lbfgs failed to converge (status=1):\n",
            "STOP: TOTAL NO. of ITERATIONS REACHED LIMIT.\n",
            "\n",
            "Increase the number of iterations (max_iter) or scale the data as shown in:\n",
            "    https://scikit-learn.org/stable/modules/preprocessing.html\n",
            "Please also refer to the documentation for alternative solver options:\n",
            "    https://scikit-learn.org/stable/modules/linear_model.html#logistic-regression\n",
            "  n_iter_i = _check_optimize_result(\n"
          ]
        }
      ]
    },
    {
      "cell_type": "markdown",
      "metadata": {
        "id": "faoAfc1ZgAcq"
      },
      "source": [
        "* 오차 행렬(혼동 행렬) 생성"
      ]
    },
    {
      "cell_type": "code",
      "metadata": {
        "id": "JdML8YM0gBtu",
        "colab": {
          "base_uri": "https://localhost:8080/"
        },
        "outputId": "50f77cfa-1a01-475f-9cda-b17f83a1518c"
      },
      "source": [
        "# 종속 변수와 예측 결과로 혼동 행렬 생성\n",
        "\n",
        "from sklearn.metrics import confusion_matrix\n",
        "conf_matrix = confusion_matrix(y, y_pred)\n",
        "\n",
        "print(conf_matrix)"
      ],
      "execution_count": 9,
      "outputs": [
        {
          "output_type": "stream",
          "name": "stdout",
          "text": [
            "[[337  20]\n",
            " [ 30 182]]\n"
          ]
        }
      ]
    },
    {
      "cell_type": "markdown",
      "metadata": {
        "id": "xbcK3rT-gFRk"
      },
      "source": [
        "* 정확도"
      ]
    },
    {
      "cell_type": "code",
      "metadata": {
        "id": "NLiXFuYvgI1e",
        "colab": {
          "base_uri": "https://localhost:8080/"
        },
        "outputId": "6261b2d3-fbac-4f2b-8de5-2b58e8241edd"
      },
      "source": [
        "from sklearn.metrics import accuracy_score\n",
        "\n",
        "# 정확도 계산\n",
        "accuracy = accuracy_score(y, y_pred)\n",
        "print(f\"\\n정확도: {accuracy:.4f}\")"
      ],
      "execution_count": 10,
      "outputs": [
        {
          "output_type": "stream",
          "name": "stdout",
          "text": [
            "\n",
            "정확도: 0.9121\n"
          ]
        }
      ]
    },
    {
      "cell_type": "markdown",
      "metadata": {
        "id": "UYnVZS9igNNf"
      },
      "source": [
        "* 정밀도"
      ]
    },
    {
      "cell_type": "code",
      "metadata": {
        "id": "j108NueLgMKF",
        "colab": {
          "base_uri": "https://localhost:8080/"
        },
        "outputId": "cd1613c7-6624-405b-a626-4006f49cd984"
      },
      "source": [
        "from sklearn.metrics import precision_score\n",
        "\n",
        "# 정밀도 계산\n",
        "precision = precision_score(y, y_pred)\n",
        "print(\"정밀도: {:.4f}\".format(precision))"
      ],
      "execution_count": 11,
      "outputs": [
        {
          "output_type": "stream",
          "name": "stdout",
          "text": [
            "정밀도: 0.9010\n"
          ]
        }
      ]
    },
    {
      "cell_type": "markdown",
      "metadata": {
        "id": "2-MBquNJZOM4"
      },
      "source": [
        "* 재현율"
      ]
    },
    {
      "cell_type": "code",
      "metadata": {
        "id": "uje4ivPvZPwv",
        "colab": {
          "base_uri": "https://localhost:8080/"
        },
        "outputId": "9559a9bc-33e1-4a3c-f894-539cab417ffa"
      },
      "source": [
        "from sklearn.metrics import recall_score\n",
        "\n",
        "# 재현율 계산\n",
        "recall = recall_score(y, y_pred)\n",
        "print(\"재현율: {:.4f}\".format(recall))"
      ],
      "execution_count": 12,
      "outputs": [
        {
          "output_type": "stream",
          "name": "stdout",
          "text": [
            "재현율: 0.8585\n"
          ]
        }
      ]
    },
    {
      "cell_type": "markdown",
      "metadata": {
        "id": "Cw1p3yjagUCH"
      },
      "source": [
        "* F1 score"
      ]
    },
    {
      "cell_type": "code",
      "metadata": {
        "id": "hPdtYdoDgYgV",
        "colab": {
          "base_uri": "https://localhost:8080/"
        },
        "outputId": "2810ee9f-4a2f-4123-ade9-6390a2132e41"
      },
      "source": [
        "from sklearn.metrics import f1_score\n",
        "\n",
        "# F1 score 계산\n",
        "f1= f1_score(y, y_pred)\n",
        "print(\"F1 score: {:.4f}\".format(f1))"
      ],
      "execution_count": 13,
      "outputs": [
        {
          "output_type": "stream",
          "name": "stdout",
          "text": [
            "F1 score: 0.8792\n"
          ]
        }
      ]
    },
    {
      "cell_type": "markdown",
      "metadata": {
        "id": "fzwIFsKOW5a1"
      },
      "source": [
        "* 예측 확률(pred_proba) : 0으로 예측할 확률이 0.1보다 크면 y_pred2 에 넣는다 가정."
      ]
    },
    {
      "cell_type": "code",
      "metadata": {
        "id": "nw9dxOiPW40l"
      },
      "source": [
        "from sklearn.preprocessing import Binarizer\n",
        "y_proba = model_lor.predict_proba(X)\n",
        "y_pred2 = [0 if prob[0] > 0.1 else 1 for prob in y_proba]"
      ],
      "execution_count": 14,
      "outputs": []
    },
    {
      "cell_type": "code",
      "metadata": {
        "id": "Y-WrHrICYFB1",
        "colab": {
          "base_uri": "https://localhost:8080/"
        },
        "outputId": "69565f40-76e9-491a-a64d-17f83043a7f3"
      },
      "source": [
        "# y과 y_pred2의 혼동행렬, 정확도, 정밀도, 재현율, f1 score 구하기\n",
        "\n",
        "# 혼동 행렬 계산\n",
        "conf_matrix2 = confusion_matrix(y,y_pred2)\n",
        "\n",
        "# 지표 계산\n",
        "accuracy2 = accuracy_score(y,y_pred2)\n",
        "precision2 = precision_score(y,y_pred2)\n",
        "recall2 = recall_score(y,y_pred2)\n",
        "f1_2 = f1_score(y,y_pred2)\n",
        "\n",
        "# 결과 출력\n",
        "print(\"혼동 행렬:\")\n",
        "print(conf_matrix2)\n",
        "print(\"정확도: {:.4f}\".format(accuracy2))\n",
        "print(\"정밀도: {:.4f}\".format(precision2))\n",
        "print(\"재현율: {:.4f}\".format(recall2))\n",
        "print(\"F1 점수: {:.4f}\".format(f1_2))\n"
      ],
      "execution_count": 17,
      "outputs": [
        {
          "output_type": "stream",
          "name": "stdout",
          "text": [
            "혼동 행렬:\n",
            "[[356   1]\n",
            " [ 73 139]]\n",
            "정확도: 0.8699\n",
            "정밀도: 0.9929\n",
            "재현율: 0.6557\n",
            "F1 점수: 0.7898\n"
          ]
        }
      ]
    },
    {
      "cell_type": "markdown",
      "metadata": {
        "id": "itgf_OjsjU-R"
      },
      "source": [
        "* ROC 곡선 시각화"
      ]
    },
    {
      "cell_type": "code",
      "metadata": {
        "id": "DW75xBokjXKy"
      },
      "source": [
        "from sklearn.metrics import roc_curve\n",
        "\n",
        "y_scores = model_lor.predict_proba(X)[:, 1]\n",
        "fpr,tpr,thresholds = roc_curve(y, y_scores)"
      ],
      "execution_count": 19,
      "outputs": []
    },
    {
      "cell_type": "code",
      "metadata": {
        "id": "CSJ69SGJVh7m",
        "colab": {
          "base_uri": "https://localhost:8080/",
          "height": 472
        },
        "outputId": "ce42fc26-7ec0-4609-99f1-e2e89563b2a2"
      },
      "source": [
        "import matplotlib.pyplot as plt\n",
        "\n",
        "plt.plot(fpr, tpr, color='blue', label='ROC Curve')\n",
        "plt.plot([0, 1], [0, 1], color='gray', linestyle='--', label='random')\n",
        "plt.xlabel('False Positive Rate')\n",
        "plt.ylabel('True Positive Rate')\n",
        "plt.title('ROC Curve')\n",
        "plt.legend()\n",
        "plt.grid(True)\n",
        "plt.show()"
      ],
      "execution_count": 21,
      "outputs": [
        {
          "output_type": "display_data",
          "data": {
            "text/plain": [
              "<Figure size 640x480 with 1 Axes>"
            ],
            "image/png": "[encoded data removed]"
          },
          "metadata": {}
        }
      ]
    },
    {
      "cell_type": "markdown",
      "metadata": {
        "id": "fL4as0YsWYD7"
      },
      "source": [
        "* ROC AUC 값"
      ]
    },
    {
      "cell_type": "code",
      "metadata": {
        "id": "-SEElVZTWaVp",
        "colab": {
          "base_uri": "https://localhost:8080/"
        },
        "outputId": "0ded97a0-bd17-471d-c5dc-94d14276b934"
      },
      "source": [
        "from sklearn.metrics import roc_auc_score\n",
        "\n",
        "y_scores = model_lor.predict_proba(X)[:, 1]\n",
        "roc_auc = roc_auc_score(y, y_scores)\n",
        "\n",
        "print(roc_auc)"
      ],
      "execution_count": 22,
      "outputs": [
        {
          "output_type": "stream",
          "name": "stdout",
          "text": [
            "0.97412927435125\n"
          ]
        }
      ]
    }
  ]
}